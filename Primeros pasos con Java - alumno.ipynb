{
 "cells": [
  {
   "cell_type": "markdown",
   "metadata": {},
   "source": [
    "# Primeros pasos con Java\n",
    "**Autor**: Daniel Mateos-García\n",
    "\n",
    "**version 1.0.1**"
   ]
  },
  {
   "cell_type": "markdown",
   "metadata": {},
   "source": [
    "|   |\n",
    "|:---|\n",
    "**MUY IMPORTANTE:** Antes de empezar este Notebook, debes haber trabajado el bloque 1 de los apuntes de teoría disponibles en la plataforma de enseñanza virtual. Sin este requisito, problablemente entenderás muy poco de lo que se detalla a continuación.\n"
   ]
  },
  {
   "cell_type": "markdown",
   "metadata": {},
   "source": [
    "La intención de este Notebook es la de familiarizarnos un poco con la sintaxis de Java. Para ello vamos a empezar definiendo un tipo nuevo:"
   ]
  },
  {
   "cell_type": "code",
   "execution_count": null,
   "metadata": {},
   "outputs": [],
   "source": [
    "import java.util.stream.Collectors;\n",
    "\n",
    "public class Punto{\n",
    "    \n",
    "    //Atributos\n",
    "    private Double x;\n",
    "    private Double y;\n",
    "    \n",
    "    //Método constructor\n",
    "    public Punto(Double x, Double y){\n",
    "        this.x=x;\n",
    "        this.y=y;\n",
    "    }\n",
    "    \n",
    "    //getters o métodos consultores (u observadores)\n",
    "    public Double getX(){\n",
    "        return x;\n",
    "    }\n",
    "    public Double getY(){\n",
    "        return y;\n",
    "    }\n",
    "    \n",
    "    //setters o métodos modificadores\n",
    "    public void setX(Double x) {\n",
    "        this.x = x;\n",
    "    }\n",
    "\n",
    "    public void setY(Double y) {\n",
    "        this.y = y;\n",
    "    }\n",
    "    \n",
    "    //Método que realiza el cálculo de la distancia entre dos puntos\n",
    "    public Double getDistanciaAOtroPunto(Punto p) {\n",
    "        Double dx = this.getX() - p.getX();\n",
    "        Double dy = this.getY() - p.getY();\n",
    "        return Math.sqrt(dx * dx + dy * dy);\n",
    "    }\n",
    "    \n",
    "    //Método que devuelve la representación como cadena de un Punto\n",
    "    public String toString(){\n",
    "        return \"Punto [x=\" + x + \", y=\" + y + \"]\";\n",
    "    }\n",
    "}"
   ]
  },
  {
   "cell_type": "markdown",
   "metadata": {},
   "source": [
    "Algunas consideraciones sobre el diseño del tipo *Punto*. \n",
    "\n",
    "La palabra reservada *public* permite que la clase y los métodos sean accesibles desde fuera de la propia clase. Es decir, nos posibilita crear objetos de tipo *Punto* (*Punto p=new (...)*) y acceder a sus operaciones (*p.getX()*). La palabra *private* hace justo lo contrario. En nuestro caso, impide que los atributos sean accesibles desde fuera de la clase (dado un objeto *p* de tipo *Punto*, no podríamos hacer algo como *p.x=10.0*)\n",
    "\n",
    "Fíjate que el método constructor no lleva ningún parámetro de salida y que toma el nombre del tipo.\n",
    "Fíjate también en la palabra reservada *this*. En el caso de los *getters* y *setters* nos es útil para poder diferenciar la *x* atributo de la *x* parámetro (igual pasa con la *y*). De esta forma, cuando la escribimos seguida de un punto (*this.*) tendremos acceso a todos los atributos y métodos que se hayan definido dentro de la clase. Por tanto, **this.x** significa que estamos acciendo al **atributo x** del tipo *Punto*.\n",
    "\n",
    "Una vez que hemos definido un tipo nuevo, ya podemos utilizarlo como cualquier otro que venga incluido en la librería estándar. Es decir, una vez que hemos creado un tipo nuevo que se llama *Punto*, ya podemos crear objetos con él. Recuerda que para crear un objeto debes usar la palabra reservada *new* seguida del método constructor. \n",
    "\n",
    "**Ejercicio 1. Crea tres puntos y llámalos A, B y C respectivamente. Muéstralos por pantalla**\n",
    "\n",
    "Para mostrar un objeto por pantalla, puedes usar *System.out.println(objeto)*. Fíjate que lo que sale por pantalla es lo que se haya definido dentro del método *toString()*"
   ]
  },
  {
   "cell_type": "code",
   "execution_count": null,
   "metadata": {},
   "outputs": [],
   "source": [
    "Punto A=new Punto(1.,2.);\n",
    "Punto B=new Punto(2.,3.);\n",
    "Punto C=new Punto(3.,4.);\n",
    "\n",
    "System.out.println(A);\n",
    "System.out.println(B);\n",
    "System.out.println(C);"
   ]
  },
  {
   "cell_type": "markdown",
   "metadata": {},
   "source": [
    "**Ejercicio 2. Calcula el promedio de las abcisas de los puntos A, B y C**"
   ]
  },
  {
   "cell_type": "code",
   "execution_count": null,
   "metadata": {},
   "outputs": [],
   "source": [
    "System.out.println(\"promedio de las abcisas:\");\n",
    "System.out.println((A.getX()+B.getX()+C.getX())/3);"
   ]
  },
  {
   "cell_type": "markdown",
   "metadata": {},
   "source": [
    "**Ejercicio 3. Calcula la distancia de A a B**"
   ]
  },
  {
   "cell_type": "code",
   "execution_count": null,
   "metadata": {},
   "outputs": [],
   "source": [
    "System.out.println(\"Distancia de A a B\");\n",
    "System.out.println(A.getDistanciaAOtroPunto(B));"
   ]
  },
  {
   "cell_type": "markdown",
   "metadata": {},
   "source": [
    "**Ejercicio 4. Fijándote en el tipo Punto, construye un tipo Circulo pero sin métodos modificadores. Para implementar un tipo que represente un círculo necesitarás un punto (para el centro) y el radio**"
   ]
  },
  {
   "cell_type": "code",
   "execution_count": 45,
   "metadata": {},
   "outputs": [],
   "source": [
    "public class Circulo {\n",
    "    private Punto centro;\n",
    "    private Double radio;\n",
    "\n",
    "    public Circulo(Punto centro, Double radio) {\n",
    "        this.centro = centro;\n",
    "        this.radio = radio;\n",
    "    }\n",
    "\n",
    "    public Punto getCentro() {\n",
    "        return centro;\n",
    "    }\n",
    "    \n",
    "    public Double getRadio() {\n",
    "        return radio;\n",
    "    }\n",
    "\n",
    "    public String toString() {\n",
    "        return \"Circulo [centro=\" + centro + \", radio=\" + radio + \"]\";\n",
    "    }\n",
    "}"
   ]
  },
  {
   "cell_type": "markdown",
   "metadata": {},
   "source": [
    "**Ejercicio 5. Crea un círculo a partir de cualquiera de los puntos anteriores**"
   ]
  },
  {
   "cell_type": "code",
   "execution_count": 46,
   "metadata": {},
   "outputs": [
    {
     "name": "stdout",
     "output_type": "stream",
     "text": [
      "Circulo [centro=Punto [x=1.0, y=2.0], radio=2.5]\r\n"
     ]
    }
   ],
   "source": [
    "Circulo circulo=new Circulo(A, 2.5);\n",
    "System.out.println(circulo);"
   ]
  },
  {
   "cell_type": "markdown",
   "metadata": {},
   "source": [
    "**Ejercicio 6. A pesar de que el tipo creado no tiene setters, ¿se te ocurre alguna forma de cambiar el valor del centro del círculo?**"
   ]
  },
  {
   "cell_type": "code",
   "execution_count": 47,
   "metadata": {},
   "outputs": [
    {
     "name": "stdout",
     "output_type": "stream",
     "text": [
      "Circulo [centro=Punto [x=0.0, y=2.0], radio=2.5]\r\n"
     ]
    }
   ],
   "source": [
    "circulo.getCentro().setX(0.0);\n",
    "System.out.println(circulo);"
   ]
  },
  {
   "cell_type": "markdown",
   "metadata": {},
   "source": [
    "**Ejercicio 7. Piensa en cómo podrías dotar al tipo Circulo de inmutabilidad**"
   ]
  },
  {
   "cell_type": "markdown",
   "metadata": {},
   "source": [
    "**Ejercicio 8. Calcula el área del círculo. Crea una constante con el valor de P**I"
   ]
  },
  {
   "cell_type": "code",
   "execution_count": 48,
   "metadata": {},
   "outputs": [
    {
     "name": "stdout",
     "output_type": "stream",
     "text": [
      "Área del círculo\n",
      "19.635\n"
     ]
    }
   ],
   "source": [
    "final Double PI=3.1416;\n",
    "System.out.println(\"Área del círculo\");\n",
    "System.out.println(PI*circulo.getRadio()*circulo.getRadio());"
   ]
  },
  {
   "cell_type": "markdown",
   "metadata": {},
   "source": [
    "**Ejercicio 9. Escribe un método estático que determine si un punto p está dentro de un circulo c y pruébalo**\n",
    "\n",
    "Recuerda que para implementar un método estático debes anteponer al tipo de salida la palabra reservada *static*"
   ]
  },
  {
   "cell_type": "code",
   "execution_count": 49,
   "metadata": {},
   "outputs": [
    {
     "name": "stdout",
     "output_type": "stream",
     "text": [
      "true\r\n"
     ]
    }
   ],
   "source": []
  },
  {
   "cell_type": "markdown",
   "metadata": {},
   "source": [
    "**Ejercicio 10. Intenta hacer un snippet que agregue a una lista 100 puntos generados de forma aleatoria**\n",
    "\n",
    "+ Para crear una lista vacía de puntos, usa la siguiente línea: `List<Punto> lista=new ArrayList<>();`\n",
    "\n",
    "+ Para escribir un bloque iterativo *for* de 100 iteraciones usa:\n",
    "```\n",
    "for(int i=0; i<100; i++){\n",
    "    ...\n",
    "}\n",
    "```\n",
    "+ Para generar un número aleatorio entre 0.0 y 10.0 (excluido) usa: `Math.random()*10`\n",
    "+ Para agregar un elmento a la lista usa el método `add(...)`\n"
   ]
  },
  {
   "cell_type": "code",
   "execution_count": 50,
   "metadata": {},
   "outputs": [
    {
     "name": "stdout",
     "output_type": "stream",
     "text": [
      "[Punto [x=3.604067016432426, y=8.941754009225347], Punto [x=8.572366886525133, y=7.294159863980565], Punto [x=8.749194029449685, y=4.402375641393856], Punto [x=4.810939118455483, y=7.720302146496188], Punto [x=8.684663076429134, y=3.7787004686315138], Punto [x=5.578327166457246, y=9.427432145392823], Punto [x=6.332119365469096, y=4.746453817219534], Punto [x=0.4329120578360768, y=4.130559886979421], Punto [x=0.5057139707791536, y=9.506216012625313], Punto [x=2.2637498254334365, y=1.7265694543618715], Punto [x=7.740997457310238, y=5.657013467989578], Punto [x=7.282424032243339, y=5.458890168604461], Punto [x=8.01877852474924, y=7.159715273645849], Punto [x=4.3519161106474415, y=0.22754719878477103], Punto [x=2.9267398776182563, y=1.9139813766643055], Punto [x=9.42671875289183, y=2.3700946663538236], Punto [x=3.7176068872637735, y=3.6541430115429874], Punto [x=9.95069400103603, y=6.826818259686313], Punto [x=8.451188482945954, y=2.363541330166382], Punto [x=0.9439359400783032, y=5.503991349724986], Punto [x=1.9486225025809367, y=9.213487852586429], Punto [x=9.207164819391476, y=8.861858778644361], Punto [x=9.640673754064661, y=9.152151595924913], Punto [x=4.5819495015605245, y=1.2794070725746731], Punto [x=6.557948411213044, y=6.700320152563101], Punto [x=7.527313165012729, y=9.585878774193507], Punto [x=5.689402945178904, y=8.25511917327521], Punto [x=0.40805043659821183, y=3.2993713540292777], Punto [x=5.726546129261651, y=7.259418288982409], Punto [x=5.837343843272082, y=4.5757599271359695], Punto [x=6.8142392317904665, y=6.963791939610566], Punto [x=9.176037043072245, y=5.646564991837513], Punto [x=4.345027196952397, y=9.189542062220575], Punto [x=3.8631863764832444, y=1.6122838060112699], Punto [x=5.062435766419265, y=6.495431636574679], Punto [x=7.637275340374501, y=6.858092236967073], Punto [x=6.779699312546713, y=9.457420118326835], Punto [x=4.9047505489302, y=4.0717122021013274], Punto [x=2.8738854593975995, y=0.3898296357549169], Punto [x=5.5222902738276956, y=5.868636056780076], Punto [x=5.381410644188217, y=9.768011339921408], Punto [x=3.081496178145966, y=0.3677829197283111], Punto [x=5.999449574381368, y=1.8567285036708536], Punto [x=6.419453519054034, y=3.7110594786420203], Punto [x=2.588754906413188, y=1.6051013809609482], Punto [x=6.5258778085858165, y=4.483182616716118], Punto [x=9.87693005361409, y=5.738112423105389], Punto [x=7.277327334464968, y=7.263516192083486], Punto [x=6.977198633214553, y=7.156301369852974], Punto [x=2.5012287863827787, y=5.129561009348265], Punto [x=1.066243372675142, y=3.2494267338580416], Punto [x=3.7572281196224444, y=3.8321322837822613], Punto [x=6.10569405395267, y=5.536506156898873], Punto [x=2.920645187812564, y=3.575145130966624], Punto [x=7.84536255338157, y=0.16379210865932414], Punto [x=1.1625733744749356, y=7.858321165898023], Punto [x=1.5123404196126256, y=6.223878459994713], Punto [x=1.2434353267544251, y=2.6790211622934725], Punto [x=6.568586997220019, y=1.6032739998548273], Punto [x=3.171570874341234, y=3.5397957326956], Punto [x=3.7106539819517015, y=4.122420084365588], Punto [x=4.225692259037066, y=2.171142299103858], Punto [x=2.8887059484143163, y=9.101269966871488], Punto [x=3.0998185985226643, y=9.65433928444834], Punto [x=7.538013868879261, y=3.165189939245967], Punto [x=4.501557318636085, y=7.717127865650752], Punto [x=9.444613982406505, y=8.100077233708204], Punto [x=4.919371172678674, y=5.375396049807943], Punto [x=0.7078392157353219, y=7.872238595449479], Punto [x=2.471733817245604, y=3.8069126610106507], Punto [x=4.1159444033626915, y=6.547705247131637], Punto [x=3.7608406922942086, y=8.368548433567724], Punto [x=0.9170679995597442, y=4.777311879677434], Punto [x=8.47581335425512, y=3.0063145034669105], Punto [x=5.4462809581382725, y=7.757991337988438], Punto [x=8.125090742111851, y=8.957937276151497], Punto [x=9.360494053605358, y=8.137396453259138], Punto [x=8.72497960560131, y=6.610576948441716], Punto [x=4.336511440633898, y=3.198086267971494], Punto [x=8.531088573130726, y=6.651693965388594], Punto [x=1.0035272702631537, y=6.8391609887604226], Punto [x=0.971649132799357, y=4.238952537390764], Punto [x=3.6098860526683585, y=3.367370669977854], Punto [x=9.826477455794782, y=7.815441357459463], Punto [x=4.464939206599895, y=1.9163611982876494], Punto [x=8.392614155129355, y=2.4093892901186074], Punto [x=9.550341338584904, y=7.431862980414053], Punto [x=6.88742888106024, y=5.782930484927209], Punto [x=6.861157387042757, y=6.59226865991713], Punto [x=2.662249284973975, y=4.632382147144264], Punto [x=2.015653230269454, y=4.778185012487089], Punto [x=5.934343407993179, y=7.192871275338211], Punto [x=1.4636686547662037, y=3.2611871512230617], Punto [x=9.692341581347474, y=8.06305050995311], Punto [x=2.2269827765120342, y=4.1511436081684145], Punto [x=6.189954986709617, y=0.841024928859444], Punto [x=8.52109613291437, y=4.323117404909373], Punto [x=4.0151128506521765, y=4.250508130618816], Punto [x=9.836375038651836, y=8.538995337433043], Punto [x=9.106406437722018, y=7.836614762825334]]\r\n"
     ]
    }
   ],
   "source": []
  },
  {
   "cell_type": "markdown",
   "metadata": {},
   "source": [
    "Para finalizar, observa la siguiente línea de código e intenta deducir para qué sirve. \n",
    "\n",
    "Como pista te diré que el parámetro del método *filter* es una expresión lambda en java (tienen la forma *entrada -> salida*). Recuerda que una expresión lambda no es más que una función (o método en este caso) 'de usar y tirar' que no tiene nombre, y que sólo tiene la entrada a dicha función y lo que devuelve. La entrada de dicha expresión lambda es un objeto *Punto*, y la salida es *boolean*. \n",
    "\n",
    "Fíjate además que lo que se obtiene al final es una sublista de la lista inicial y que cada vez que se usa un punto, sólo es una llamada a un método desde un objeto producido por un paso anterior. Veámoslo desglosado: \n",
    "\n",
    "+ ```Stream<Punto> s1=l.stream();```\n",
    "+ ```Stream<Punto> s2=s1.filter(punto -> puntoEnCirculo(punto, circulo));```\n",
    "+ ```List<Punto> res=s2.collect(Collectors.toList());```\n",
    "\n",
    "\n",
    "No te preocupes demasiado. Todo esto (y algunas cosas más) se irán viendo a lo largo del curso de forma recurrente."
   ]
  },
  {
   "cell_type": "code",
   "execution_count": 51,
   "metadata": {},
   "outputs": [
    {
     "data": {
      "text/plain": [
       "[Punto [x=0.4329120578360768, y=4.130559886979421], Punto [x=2.2637498254334365, y=1.7265694543618715], Punto [x=0.40805043659821183, y=3.2993713540292777], Punto [x=1.066243372675142, y=3.2494267338580416], Punto [x=1.2434353267544251, y=2.6790211622934725], Punto [x=0.971649132799357, y=4.238952537390764], Punto [x=1.4636686547662037, y=3.2611871512230617]]"
      ]
     },
     "execution_count": 51,
     "metadata": {},
     "output_type": "execute_result"
    }
   ],
   "source": [
    "l.stream().filter(punto -> puntoEnCirculo(punto, circulo)).collect(Collectors.toList());"
   ]
  },
  {
   "cell_type": "code",
   "execution_count": null,
   "metadata": {},
   "outputs": [],
   "source": []
  }
 ],
 "metadata": {
  "kernelspec": {
   "display_name": "Java",
   "language": "java",
   "name": "java"
  },
  "language_info": {
   "codemirror_mode": {
    "name": "ipython",
    "version": 3
   },
   "file_extension": ".py",
   "mimetype": "text/x-python",
   "name": "python",
   "nbconvert_exporter": "python",
   "pygments_lexer": "ipython3",
   "version": "3.7.4"
  }
 },
 "nbformat": 4,
 "nbformat_minor": 2
}
